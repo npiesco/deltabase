{
 "cells": [
  {
   "cell_type": "code",
   "execution_count": 1,
   "metadata": {},
   "outputs": [],
   "source": [
    "from deltabase import delta\n",
    "\n",
    "db:delta = delta.connect(\"path\")"
   ]
  },
  {
   "cell_type": "code",
   "execution_count": 2,
   "metadata": {},
   "outputs": [],
   "source": [
    "db.upsert(\"mytable\", \"id\", {\"id\":1, \"name\":\"jim\"})"
   ]
  },
  {
   "cell_type": "code",
   "execution_count": 3,
   "metadata": {
    "vscode": {
     "languageId": "sql"
    }
   },
   "outputs": [
    {
     "data": {
      "text/html": [
       "<div><style>\n",
       ".dataframe > thead > tr,\n",
       ".dataframe > tbody > tr {\n",
       "  text-align: right;\n",
       "  white-space: pre-wrap;\n",
       "}\n",
       "</style>\n",
       "<small>shape: (1, 2)</small><table border=\"1\" class=\"dataframe\"><thead><tr><th>id</th><th>name</th></tr><tr><td>i64</td><td>str</td></tr></thead><tbody><tr><td>1</td><td>&quot;jim&quot;</td></tr></tbody></table></div>"
      ],
      "text/plain": [
       "shape: (1, 2)\n",
       "┌─────┬──────┐\n",
       "│ id  ┆ name │\n",
       "│ --- ┆ ---  │\n",
       "│ i64 ┆ str  │\n",
       "╞═════╪══════╡\n",
       "│ 1   ┆ jim  │\n",
       "└─────┴──────┘"
      ]
     },
     "execution_count": 3,
     "metadata": {},
     "output_type": "execute_result"
    }
   ],
   "source": [
    "%%sql --table newtable --key id\n",
    "select * from mytable"
   ]
  },
  {
   "cell_type": "code",
   "execution_count": 4,
   "metadata": {},
   "outputs": [
    {
     "data": {
      "text/plain": [
       "['mytable', 'newtable']"
      ]
     },
     "execution_count": 4,
     "metadata": {},
     "output_type": "execute_result"
    }
   ],
   "source": [
    "db.tables"
   ]
  },
  {
   "cell_type": "code",
   "execution_count": 5,
   "metadata": {},
   "outputs": [],
   "source": [
    "db.upsert(\"mytable\", \"id\", {\"id\":1, \"name\":\"jimbob\"})\n",
    "db.upsert(\"mytabl1\", \"id\", {\"id\":1, \"name\":\"jimbob\"})\n",
    "db.upsert(\"mytabl2\", \"id\", {\"id\":1, \"name\":\"jimbob\"})\n",
    "db.upsert(\"mytabl3\", \"id\", {\"id\":1, \"name\":\"jimbob\"})\n",
    "db.upsert(\"mytabl4\", \"id\", {\"id\":1, \"name\":\"jimbob\"})"
   ]
  },
  {
   "cell_type": "code",
   "execution_count": 6,
   "metadata": {},
   "outputs": [
    {
     "data": {
      "text/markdown": [
       "```json\n",
       "[\n",
       "    {\n",
       "        \"role\": \"system\",\n",
       "        \"content\": \"answer the user's question. below is the data they have access to.data can be accessed via sql.\\n\"\n",
       "    },\n",
       "    {\n",
       "        \"role\": \"system\",\n",
       "        \"content\": \"here is the data available to the user.\\n- mytabl1: {'id': <class 'int'>, 'name': <class 'str'>}\\n- mytabl2: {'id': <class 'int'>, 'name': <class 'str'>}\\n- mytabl3: {'id': <class 'int'>, 'name': <class 'str'>}\\n- mytabl4: {'id': <class 'int'>, 'name': <class 'str'>}\\n- mytable: {'id': <class 'int'>, 'name': <class 'str'>}\\n- newtable: {'id': <class 'int'>, 'name': <class 'str'>}\\n\"\n",
       "    },\n",
       "    {\n",
       "        \"role\": \"user\",\n",
       "        \"content\": \"describe the data available to me.\\n\"\n",
       "    }\n",
       "]\n",
       "```"
      ],
      "text/plain": [
       "<IPython.core.display.Markdown object>"
      ]
     },
     "metadata": {},
     "output_type": "display_data"
    }
   ],
   "source": [
    "%%ai --debug\n",
    "describe the data available to me."
   ]
  }
 ],
 "metadata": {
  "kernelspec": {
   "display_name": ".venv",
   "language": "python",
   "name": "python3"
  },
  "language_info": {
   "codemirror_mode": {
    "name": "ipython",
    "version": 3
   },
   "file_extension": ".py",
   "mimetype": "text/x-python",
   "name": "python",
   "nbconvert_exporter": "python",
   "pygments_lexer": "ipython3",
   "version": "3.12.2"
  }
 },
 "nbformat": 4,
 "nbformat_minor": 2
}
