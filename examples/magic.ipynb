{
 "cells": [
  {
   "cell_type": "code",
   "execution_count": null,
   "metadata": {},
   "outputs": [],
   "source": [
    "%pip install --upgrade 'deltabase' 'deltabase[magic]' 'deltabase[ai]' requests"
   ]
  },
  {
   "cell_type": "code",
   "execution_count": 2,
   "metadata": {},
   "outputs": [],
   "source": [
    "from deltabase import delta\n",
    "\n",
    "from polars import DataFrame\n",
    "from requests import get"
   ]
  },
  {
   "cell_type": "code",
   "execution_count": 3,
   "metadata": {},
   "outputs": [],
   "source": [
    "db:delta = delta.connect(\"delta\")\n",
    "db.config.dtype = \"polars\""
   ]
  },
  {
   "cell_type": "code",
   "execution_count": null,
   "metadata": {},
   "outputs": [],
   "source": [
    "bulk_data = get(\"https://api.scryfall.com/bulk-data\").json()\n",
    "download_uri = next((item['download_uri'] for item in bulk_data['data'] if item['type'] == 'all_cards'), None)\n",
    "\n",
    "data = get(download_uri).json()\n",
    "data = DataFrame(data)"
   ]
  },
  {
   "cell_type": "code",
   "execution_count": 5,
   "metadata": {},
   "outputs": [],
   "source": [
    "err = db.upsert(table=\"colors\", primary_key=\"id\", data=data[[\n",
    "    \"id\", \"lang\", \"set_name\", \"rarity\", \"colors\"\n",
    "]].explode(\"colors\").fill_null(strategy=\"zero\"))\n",
    "assert not err, err\n",
    "err = db.commit(table=\"colors\", partition_by=[\"lang\", \"set_name\", \"rarity\"])\n",
    "assert not err, err\n",
    "\n",
    "err = db.upsert(table=\"images\", primary_key=\"id\", data=data[[\n",
    "    \"id\", \"lang\", \"set_name\", \"rarity\", \"image_uris\"\n",
    "]].unnest(\"image_uris\").fill_null(strategy=\"zero\"))\n",
    "assert not err, err\n",
    "err = db.commit(table=\"images\", partition_by=[\"lang\", \"set_name\", \"rarity\"])\n",
    "assert not err, err\n",
    "\n",
    "err = db.upsert(table=\"keywords\", primary_key=\"id\", data=data[[\n",
    "    \"id\", \"lang\", \"set_name\", \"rarity\", \"keywords\"\n",
    "]].explode(\"keywords\").fill_null(strategy=\"zero\"))\n",
    "assert not err, err\n",
    "err = db.commit(table=\"keywords\", partition_by=[\"lang\", \"set_name\", \"rarity\"])\n",
    "assert not err, err\n",
    "\n",
    "err = db.upsert(table=\"legalities\", primary_key=\"id\", data=data[[\n",
    "    \"id\", \"lang\", \"set_name\", \"rarity\", \"legalities\"\n",
    "]].unnest(\"legalities\").fill_null(strategy=\"zero\"))\n",
    "assert not err, err\n",
    "err = db.commit(table=\"legalities\", partition_by=[\"lang\", \"set_name\", \"rarity\"])\n",
    "assert not err, err\n",
    "\n",
    "err = db.upsert(table=\"prices\", primary_key=\"id\", data=data[[\n",
    "    \"id\", \"lang\", \"set_name\", \"rarity\", \"prices\"\n",
    "]].unnest(\"prices\").drop(\"usd_etched\").fill_null(strategy=\"zero\"))\n",
    "assert not err, err\n",
    "err = db.commit(table=\"prices\", partition_by=[\"lang\", \"set_name\", \"rarity\"])\n",
    "assert not err, err\n",
    "\n",
    "err = db.upsert(table=\"produced_mana\", primary_key=\"id\", data=data[[\n",
    "    \"id\", \"lang\", \"set_name\", \"rarity\", \"produced_mana\"\n",
    "]].explode(\"produced_mana\").fill_null(\"zero\"))\n",
    "assert not err, err\n",
    "err = db.commit(table=\"produced_mana\", partition_by=[\"lang\", \"set_name\", \"rarity\"])\n",
    "assert not err, err"
   ]
  },
  {
   "cell_type": "code",
   "execution_count": 6,
   "metadata": {},
   "outputs": [],
   "source": [
    "data = data.drop([\n",
    "    \"all_parts\",\n",
    "    \"arena_id\",\n",
    "    \"artist_ids\",\n",
    "    \"card_faces\",\n",
    "    \"cardmarket_id\",\n",
    "    \"color_identity\",\n",
    "    \"colors\",\n",
    "    \"finishes\",\n",
    "    \"frame_effects\",\n",
    "    \"games\",\n",
    "    \"highres_image\",\n",
    "    \"image_status\",\n",
    "    \"image_uris\",\n",
    "    \"keywords\",\n",
    "    \"layout\",\n",
    "    \"legalities\",\n",
    "    \"mtgo_foil_id\",\n",
    "    \"mtgo_id\",\n",
    "    \"multiverse_ids\",\n",
    "    \"object\",\n",
    "    \"oracle_id\",\n",
    "    \"oracle_text\",\n",
    "    \"preview\",\n",
    "    \"prices\",\n",
    "    \"printed_name\",\n",
    "    \"printed_text\",\n",
    "    \"printed_type_line\",\n",
    "    \"prints_search_uri\",\n",
    "    \"produced_mana\",\n",
    "    \"promo_types\",\n",
    "    \"purchase_uris\",\n",
    "    \"related_uris\",\n",
    "    \"rulings_uri\",\n",
    "    \"scryfall_set_uri\",\n",
    "    \"scryfall_uri\",\n",
    "    \"security_stamp\",\n",
    "    \"set_search_uri\",\n",
    "    \"set_uri\",\n",
    "    \"uri\",\n",
    "])\n",
    "\n",
    "err = db.upsert(table=\"cards\", primary_key=\"id\", data=data.fill_null(\"zero\"))\n",
    "assert not err, err\n",
    "err = db.commit(table=\"cards\", partition_by=[\"lang\", \"set_name\", \"rarity\"])\n",
    "assert not err, err"
   ]
  },
  {
   "cell_type": "code",
   "execution_count": 7,
   "metadata": {},
   "outputs": [],
   "source": [
    "data = db.sql(\"\"\"\n",
    "select\n",
    "    p.id, \n",
    "    c.name,\n",
    "    c.set_name,\n",
    "    c.released_at as release_date,\n",
    "    cast(p.usd as float) as usd,\n",
    "from prices as p\n",
    "inner join cards as c on c.id = p.id\n",
    "where p.usd != '' and c.lang = 'en'\n",
    "order by usd desc\n",
    "\"\"\")\n",
    "err = db.upsert(table=\"card_value\", primary_key=\"id\", data=data)\n",
    "assert not err, err\n",
    "err = db.commit(table=\"card_value\", partition_by=[\"set_name\"])\n",
    "assert not err, err"
   ]
  },
  {
   "cell_type": "code",
   "execution_count": 8,
   "metadata": {},
   "outputs": [],
   "source": [
    "data = db.sql(\"\"\"\n",
    "select\n",
    "    set_name,\n",
    "    min(cast(release_date as date)) as release_date,\n",
    "    sum(usd) as usd,\n",
    "    count(id) as n_cards,\n",
    "from card_value\n",
    "group by set_name\n",
    "order by usd desc\n",
    "\"\"\")\n",
    "err = db.upsert(table=\"set_value\", primary_key=\"set_name\", data=data)\n",
    "assert not err, err\n",
    "err = db.commit(table=\"set_value\")\n",
    "assert not err, err"
   ]
  },
  {
   "cell_type": "markdown",
   "metadata": {},
   "source": [
    "---"
   ]
  },
  {
   "cell_type": "code",
   "execution_count": 9,
   "metadata": {},
   "outputs": [
    {
     "data": {
      "text/markdown": [
       "You have access to the following sets of data related to card games:\n",
       "\n",
       "1. **Card Values (`card_value`)**: Contains information about individual card values, including identifiers, names, set names, release dates, and their USD prices.\n",
       "\n",
       "2. **Cards (`cards`)**: Provides detailed attributes of each card, including ID, TCGPlayer ID, name, language, release date, mana cost, converted mana cost (cmc), type, rarity, various boolean flags (e.g., reserved, foil, promo), and attributes like power and toughness.\n",
       "\n",
       "3. **Colors (`colors`)**: Lists information on card colors, including identifiers, language, rarity, and color specifications.\n",
       "\n",
       "4. **Images (`images`)**: Contains image URLs for cards, which include different sizes (small, normal, large) and specific formats (PNG, art crop, border crop) alongside their associated metadata like rarity.\n",
       "\n",
       "5. **Keywords (`keywords`)**: Features keywords associated with cards, giving insight into specific abilities or traits based on language and rarity.\n",
       "\n",
       "6. **Legalities (`legalities`)**: Specifies the legality of cards in various formats (e.g., standard, modern, commander) based on identifiers, language, rarity, and specific formats.\n",
       "\n",
       "7. **Prices (`prices`)**: Presents pricing information, including USD prices for normal and foil cards, as well as EURO prices and ticket values.\n",
       "\n",
       "8. **Produced Mana (`produced_mana`)**: Lists details on mana production for cards, including identifiers, languages, set names, rarity, and the type of mana produced.\n",
       "\n",
       "9. **Set Values (`set_value`)**: Summarizes data for card sets, detailing the set name, release date, total USD value of the set, and the number of cards in that set.\n",
       "\n",
       "This data collectively allows you to gain insights into individual cards, their values, legalities, and related multimedia, among other aspects of the card game ecosystem."
      ],
      "text/plain": [
       "<IPython.core.display.Markdown object>"
      ]
     },
     "metadata": {},
     "output_type": "display_data"
    }
   ],
   "source": [
    "%%ai\n",
    "summarize the data available to me."
   ]
  },
  {
   "cell_type": "code",
   "execution_count": 10,
   "metadata": {},
   "outputs": [],
   "source": [
    "db.register(table=\"card_value\", version=0, alias=\"temp_card_value\")"
   ]
  },
  {
   "cell_type": "code",
   "execution_count": 11,
   "metadata": {},
   "outputs": [
    {
     "data": {
      "text/plain": [
       "['card_value',\n",
       " 'cards',\n",
       " 'colors',\n",
       " 'images',\n",
       " 'keywords',\n",
       " 'legalities',\n",
       " 'prices',\n",
       " 'produced_mana',\n",
       " 'set_value',\n",
       " 'temp_card_value']"
      ]
     },
     "execution_count": 11,
     "metadata": {},
     "output_type": "execute_result"
    }
   ],
   "source": [
    "db.tables"
   ]
  },
  {
   "cell_type": "code",
   "execution_count": 12,
   "metadata": {
    "vscode": {
     "languageId": "sql"
    }
   },
   "outputs": [
    {
     "data": {
      "text/html": [
       "<div><style>\n",
       ".dataframe > thead > tr,\n",
       ".dataframe > tbody > tr {\n",
       "  text-align: right;\n",
       "  white-space: pre-wrap;\n",
       "}\n",
       "</style>\n",
       "<small>shape: (71_519, 6)</small><table border=\"1\" class=\"dataframe\"><thead><tr><th>id</th><th>name</th><th>set_name</th><th>previous</th><th>current</th><th>diff</th></tr><tr><td>str</td><td>str</td><td>str</td><td>f64</td><td>f64</td><td>f64</td></tr></thead><tbody><tr><td>&quot;093e3fc5-b2e0-4376-b8ad-4470e0…</td><td>&quot;Gratuitous Violence&quot;</td><td>&quot;Conspiracy: Take the Crown&quot;</td><td>2.14</td><td>2.14</td><td>0.0</td></tr><tr><td>&quot;43ab3ff8-91b0-437c-9c4b-e9c103…</td><td>&quot;Omenspeaker&quot;</td><td>&quot;Conspiracy: Take the Crown&quot;</td><td>0.06</td><td>0.06</td><td>0.0</td></tr><tr><td>&quot;9de3eeae-22a5-4d9c-afd6-1cc441…</td><td>&quot;Coordinated Assault&quot;</td><td>&quot;Conspiracy: Take the Crown&quot;</td><td>0.08</td><td>0.08</td><td>0.0</td></tr><tr><td>&quot;f9083583-6fa9-4b8a-86bb-59e51a…</td><td>&quot;Exotic Orchard&quot;</td><td>&quot;Conspiracy: Take the Crown&quot;</td><td>0.33</td><td>0.33</td><td>0.0</td></tr><tr><td>&quot;160d39b0-76c5-4218-97e5-5903f7…</td><td>&quot;Opaline Unicorn&quot;</td><td>&quot;Conspiracy: Take the Crown&quot;</td><td>0.09</td><td>0.09</td><td>0.0</td></tr><tr><td>&hellip;</td><td>&hellip;</td><td>&hellip;</td><td>&hellip;</td><td>&hellip;</td><td>&hellip;</td></tr><tr><td>&quot;c2c6e29e-261a-4953-bdbe-cce879…</td><td>&quot;Tamiyo, Field Researcher Emble…</td><td>&quot;Eldritch Moon Tokens&quot;</td><td>0.71</td><td>0.71</td><td>0.0</td></tr><tr><td>&quot;dbd994fc-f3f0-4c81-86bd-14ca63…</td><td>&quot;Human&quot;</td><td>&quot;Eldritch Moon Tokens&quot;</td><td>0.29</td><td>0.29</td><td>0.0</td></tr><tr><td>&quot;e44aa879-b63b-497c-9c1b-233395…</td><td>&quot;Zombie&quot;</td><td>&quot;Eldritch Moon Tokens&quot;</td><td>0.25</td><td>0.25</td><td>0.0</td></tr><tr><td>&quot;11d25bde-a303-4b06-a3e1-4ad642…</td><td>&quot;Eldrazi Horror&quot;</td><td>&quot;Eldritch Moon Tokens&quot;</td><td>0.1</td><td>0.1</td><td>0.0</td></tr><tr><td>&quot;b8710a30-8314-49ef-b995-bd0545…</td><td>&quot;Zombie&quot;</td><td>&quot;Eldritch Moon Tokens&quot;</td><td>0.13</td><td>0.13</td><td>0.0</td></tr></tbody></table></div>"
      ],
      "text/plain": [
       "shape: (71_519, 6)\n",
       "┌───────────────────────┬───────────────────────┬──────────────────────┬──────────┬─────────┬──────┐\n",
       "│ id                    ┆ name                  ┆ set_name             ┆ previous ┆ current ┆ diff │\n",
       "│ ---                   ┆ ---                   ┆ ---                  ┆ ---      ┆ ---     ┆ ---  │\n",
       "│ str                   ┆ str                   ┆ str                  ┆ f64      ┆ f64     ┆ f64  │\n",
       "╞═══════════════════════╪═══════════════════════╪══════════════════════╪══════════╪═════════╪══════╡\n",
       "│ 093e3fc5-b2e0-4376-b8 ┆ Gratuitous Violence   ┆ Conspiracy: Take the ┆ 2.14     ┆ 2.14    ┆ 0.0  │\n",
       "│ ad-4470e0…            ┆                       ┆ Crown                ┆          ┆         ┆      │\n",
       "│ 43ab3ff8-91b0-437c-9c ┆ Omenspeaker           ┆ Conspiracy: Take the ┆ 0.06     ┆ 0.06    ┆ 0.0  │\n",
       "│ 4b-e9c103…            ┆                       ┆ Crown                ┆          ┆         ┆      │\n",
       "│ 9de3eeae-22a5-4d9c-af ┆ Coordinated Assault   ┆ Conspiracy: Take the ┆ 0.08     ┆ 0.08    ┆ 0.0  │\n",
       "│ d6-1cc441…            ┆                       ┆ Crown                ┆          ┆         ┆      │\n",
       "│ f9083583-6fa9-4b8a-86 ┆ Exotic Orchard        ┆ Conspiracy: Take the ┆ 0.33     ┆ 0.33    ┆ 0.0  │\n",
       "│ bb-59e51a…            ┆                       ┆ Crown                ┆          ┆         ┆      │\n",
       "│ 160d39b0-76c5-4218-97 ┆ Opaline Unicorn       ┆ Conspiracy: Take the ┆ 0.09     ┆ 0.09    ┆ 0.0  │\n",
       "│ e5-5903f7…            ┆                       ┆ Crown                ┆          ┆         ┆      │\n",
       "│ …                     ┆ …                     ┆ …                    ┆ …        ┆ …       ┆ …    │\n",
       "│ c2c6e29e-261a-4953-bd ┆ Tamiyo, Field         ┆ Eldritch Moon Tokens ┆ 0.71     ┆ 0.71    ┆ 0.0  │\n",
       "│ be-cce879…            ┆ Researcher Emble…     ┆                      ┆          ┆         ┆      │\n",
       "│ dbd994fc-f3f0-4c81-86 ┆ Human                 ┆ Eldritch Moon Tokens ┆ 0.29     ┆ 0.29    ┆ 0.0  │\n",
       "│ bd-14ca63…            ┆                       ┆                      ┆          ┆         ┆      │\n",
       "│ e44aa879-b63b-497c-9c ┆ Zombie                ┆ Eldritch Moon Tokens ┆ 0.25     ┆ 0.25    ┆ 0.0  │\n",
       "│ 1b-233395…            ┆                       ┆                      ┆          ┆         ┆      │\n",
       "│ 11d25bde-a303-4b06-a3 ┆ Eldrazi Horror        ┆ Eldritch Moon Tokens ┆ 0.1      ┆ 0.1     ┆ 0.0  │\n",
       "│ e1-4ad642…            ┆                       ┆                      ┆          ┆         ┆      │\n",
       "│ b8710a30-8314-49ef-b9 ┆ Zombie                ┆ Eldritch Moon Tokens ┆ 0.13     ┆ 0.13    ┆ 0.0  │\n",
       "│ 95-bd0545…            ┆                       ┆                      ┆          ┆         ┆      │\n",
       "└───────────────────────┴───────────────────────┴──────────────────────┴──────────┴─────────┴──────┘"
      ]
     },
     "execution_count": 12,
     "metadata": {},
     "output_type": "execute_result"
    }
   ],
   "source": [
    "%%sql\n",
    "select \n",
    "    c.id, \n",
    "    c.name, \n",
    "    c.set_name,\n",
    "    t.usd as previous,\n",
    "    c.usd as current,\n",
    "    (c.usd - t.usd) as diff\n",
    "from card_value as c\n",
    "inner join temp_card_value as t on c.id = t.id\n",
    "order by diff desc;"
   ]
  },
  {
   "cell_type": "code",
   "execution_count": 13,
   "metadata": {
    "vscode": {
     "languageId": "sql"
    }
   },
   "outputs": [],
   "source": [
    "db.register(table=\"set_value\", version=0, alias=\"temp_set_value\")"
   ]
  },
  {
   "cell_type": "code",
   "execution_count": 14,
   "metadata": {
    "vscode": {
     "languageId": "sql"
    }
   },
   "outputs": [
    {
     "data": {
      "text/html": [
       "<div><style>\n",
       ".dataframe > thead > tr,\n",
       ".dataframe > tbody > tr {\n",
       "  text-align: right;\n",
       "  white-space: pre-wrap;\n",
       "}\n",
       "</style>\n",
       "<small>shape: (537, 4)</small><table border=\"1\" class=\"dataframe\"><thead><tr><th>set_name</th><th>previous</th><th>current</th><th>diff</th></tr><tr><td>str</td><td>f64</td><td>f64</td><td>f64</td></tr></thead><tbody><tr><td>&quot;Unlimited Edition&quot;</td><td>26503.5</td><td>26503.5</td><td>0.0</td></tr><tr><td>&quot;Limited Edition Beta&quot;</td><td>22377.69</td><td>22377.69</td><td>0.0</td></tr><tr><td>&quot;Limited Edition Alpha&quot;</td><td>19426.07</td><td>19426.07</td><td>0.0</td></tr><tr><td>&quot;Arabian Nights&quot;</td><td>13772.22</td><td>13772.22</td><td>0.0</td></tr><tr><td>&quot;Secret Lair Drop&quot;</td><td>13739.5</td><td>13739.5</td><td>0.0</td></tr><tr><td>&hellip;</td><td>&hellip;</td><td>&hellip;</td><td>&hellip;</td></tr><tr><td>&quot;Duel Decks: Sorin vs. Tibalt T…</td><td>0.12</td><td>0.12</td><td>0.0</td></tr><tr><td>&quot;Streets of New Capenna Tokens&quot;</td><td>0.11</td><td>0.11</td><td>0.0</td></tr><tr><td>&quot;Duel Decks: Jace vs. Chandra T…</td><td>0.1</td><td>0.1</td><td>0.0</td></tr><tr><td>&quot;Dominaria United Commander Tok…</td><td>0.07</td><td>0.07</td><td>0.0</td></tr><tr><td>&quot;Assassin&#x27;s Creed Tokens&quot;</td><td>0.06</td><td>0.06</td><td>0.0</td></tr></tbody></table></div>"
      ],
      "text/plain": [
       "shape: (537, 4)\n",
       "┌─────────────────────────────────┬──────────┬──────────┬──────┐\n",
       "│ set_name                        ┆ previous ┆ current  ┆ diff │\n",
       "│ ---                             ┆ ---      ┆ ---      ┆ ---  │\n",
       "│ str                             ┆ f64      ┆ f64      ┆ f64  │\n",
       "╞═════════════════════════════════╪══════════╪══════════╪══════╡\n",
       "│ Unlimited Edition               ┆ 26503.5  ┆ 26503.5  ┆ 0.0  │\n",
       "│ Limited Edition Beta            ┆ 22377.69 ┆ 22377.69 ┆ 0.0  │\n",
       "│ Limited Edition Alpha           ┆ 19426.07 ┆ 19426.07 ┆ 0.0  │\n",
       "│ Arabian Nights                  ┆ 13772.22 ┆ 13772.22 ┆ 0.0  │\n",
       "│ Secret Lair Drop                ┆ 13739.5  ┆ 13739.5  ┆ 0.0  │\n",
       "│ …                               ┆ …        ┆ …        ┆ …    │\n",
       "│ Duel Decks: Sorin vs. Tibalt T… ┆ 0.12     ┆ 0.12     ┆ 0.0  │\n",
       "│ Streets of New Capenna Tokens   ┆ 0.11     ┆ 0.11     ┆ 0.0  │\n",
       "│ Duel Decks: Jace vs. Chandra T… ┆ 0.1      ┆ 0.1      ┆ 0.0  │\n",
       "│ Dominaria United Commander Tok… ┆ 0.07     ┆ 0.07     ┆ 0.0  │\n",
       "│ Assassin's Creed Tokens         ┆ 0.06     ┆ 0.06     ┆ 0.0  │\n",
       "└─────────────────────────────────┴──────────┴──────────┴──────┘"
      ]
     },
     "execution_count": 14,
     "metadata": {},
     "output_type": "execute_result"
    }
   ],
   "source": [
    "%%sql\n",
    "select\n",
    "    c.set_name,\n",
    "    t.usd as previous,\n",
    "    c.usd as current,\n",
    "    (c.usd - t.usd) as diff\n",
    "from set_value as c\n",
    "inner join temp_set_value as t on c.set_name = t.set_name\n",
    "order by diff desc;"
   ]
  }
 ],
 "metadata": {
  "kernelspec": {
   "display_name": ".venv",
   "language": "python",
   "name": "python3"
  },
  "language_info": {
   "codemirror_mode": {
    "name": "ipython",
    "version": 3
   },
   "file_extension": ".py",
   "mimetype": "text/x-python",
   "name": "python",
   "nbconvert_exporter": "python",
   "pygments_lexer": "ipython3",
   "version": "3.12.2"
  }
 },
 "nbformat": 4,
 "nbformat_minor": 2
}
